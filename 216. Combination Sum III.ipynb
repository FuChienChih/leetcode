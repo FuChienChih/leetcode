{
 "cells": [
  {
   "cell_type": "markdown",
   "metadata": {},
   "source": [
    "從1~9中，挑k個數字。使它們的和=n\n",
    "\n",
    "每個數字只能挑一次\n",
    "\n",
    "2<= k <= 9 , 1 <= n <= 60"
   ]
  },
  {
   "cell_type": "code",
   "execution_count": 17,
   "metadata": {},
   "outputs": [],
   "source": [
    "class Solution:\n",
    "    def combinationSum3(self,k,n): \n",
    "        self.k = k\n",
    "        self.n = n \n",
    "        self.res = []\n",
    "        self.dfs([],1)\n",
    "        return self.res\n",
    "    def dfs(self,sublist,last):\n",
    "\n",
    "        if len(sublist) == self.k:\n",
    "            if sum(sublist) == self.n: \n",
    "                self.res.append(sublist)\n",
    "            return\n",
    "        \n",
    "        for i in range(last,10):\n",
    "            if sum(sublist) > self.n:\n",
    "                return\n",
    "            self.dfs(sublist+[i],i+1)"
   ]
  },
  {
   "cell_type": "code",
   "execution_count": 18,
   "metadata": {},
   "outputs": [
    {
     "data": {
      "text/plain": [
       "[[1, 7, 9], [2, 6, 9], [2, 7, 8], [3, 5, 9], [3, 6, 8], [4, 5, 8], [4, 6, 7]]"
      ]
     },
     "execution_count": 18,
     "metadata": {},
     "output_type": "execute_result"
    }
   ],
   "source": [
    "a = Solution()\n",
    "a.combinationSum3(3,17)"
   ]
  },
  {
   "cell_type": "code",
   "execution_count": null,
   "metadata": {},
   "outputs": [],
   "source": []
  }
 ],
 "metadata": {
  "kernelspec": {
   "display_name": "Python 3",
   "language": "python",
   "name": "python3"
  },
  "language_info": {
   "codemirror_mode": {
    "name": "ipython",
    "version": 3
   },
   "file_extension": ".py",
   "mimetype": "text/x-python",
   "name": "python",
   "nbconvert_exporter": "python",
   "pygments_lexer": "ipython3",
   "version": "3.7.4"
  }
 },
 "nbformat": 4,
 "nbformat_minor": 2
}
