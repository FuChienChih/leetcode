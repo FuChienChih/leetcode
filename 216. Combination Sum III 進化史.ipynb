{
 "cells": [
  {
   "cell_type": "markdown",
   "metadata": {},
   "source": [
    "### 建立一個遞迴函式，把 1~9 可能的所有組合方法全部找出來。（每個數只能挑一次）"
   ]
  },
  {
   "cell_type": "code",
   "execution_count": 12,
   "metadata": {},
   "outputs": [],
   "source": [
    "class Solution:\n",
    "    def combinationSum3(self):\n",
    "        self.res = []\n",
    "        self.dfs([],1) # 這個 1 告訴程式sublist最小元素從1開始\n",
    "        return self.res\n",
    "    def dfs(self,sublist,last):\n",
    "        self.res.append(sublist)\n",
    "        for i in range(last,10): # 10 告訴程式sublist最大元素不超過10\n",
    "            self.dfs(sublist+[i],i+1)"
   ]
  },
  {
   "cell_type": "code",
   "execution_count": 16,
   "metadata": {},
   "outputs": [],
   "source": [
    "# a = Solution()\n",
    "# a.combinationSum3()"
   ]
  },
  {
   "cell_type": "markdown",
   "metadata": {},
   "source": [
    "### 加入條件，挑 k 個 。"
   ]
  },
  {
   "cell_type": "code",
   "execution_count": 32,
   "metadata": {},
   "outputs": [],
   "source": [
    "class Solution:\n",
    "    def combinationSum3(self,k): # 多一個參數 k\n",
    "        self.k = k # 將 k 定義為物件屬性 。 （方便dfs函式取得）\n",
    "        self.res = []\n",
    "        self.dfs([],1)\n",
    "        return self.res\n",
    "    def dfs(self,sublist,last):\n",
    "        \n",
    "        # 最後看//告訴程式『如果這個遞迴的sublist已經超過k了，就不必繼續執行接下來的動作了』\n",
    "#         if len(sublist) > self.k:\n",
    "#             return\n",
    "\n",
    "        # 只有在 sublist 元素數目 = k 時，才將sublist放入 res 中\n",
    "        if len(sublist) == self.k: \n",
    "            self.res.append(sublist)\n",
    "\n",
    "        for i in range(last,10):\n",
    "            self.dfs(sublist+[i],i+1)"
   ]
  },
  {
   "cell_type": "code",
   "execution_count": 41,
   "metadata": {},
   "outputs": [],
   "source": [
    "# a = Solution()\n",
    "# a.combinationSum3()"
   ]
  },
  {
   "cell_type": "markdown",
   "metadata": {},
   "source": [
    "### 加入條件，和必須 == n。"
   ]
  },
  {
   "cell_type": "code",
   "execution_count": 55,
   "metadata": {},
   "outputs": [],
   "source": [
    "class Solution:\n",
    "    def combinationSum3(self,k,n): # 多一個參數 n\n",
    "        self.k = k\n",
    "        self.n = n # 將 n 定義為物件屬性 。 （方便dfs函式取得）\n",
    "        self.res = []\n",
    "        self.test = []\n",
    "        self.dfs([],1)\n",
    "        return self.res,len(self.test)\n",
    "    def dfs(self,sublist,last):\n",
    "        self.test.append(sublist)\n",
    "        if len(sublist) > self.k:\n",
    "            return\n",
    "        if len(sublist) == self.k and sum(sublist) == self.n: # 將sublist放入res的條件增加一個『sum(sublist) == n』\n",
    "            self.res.append(sublist)\n",
    "\n",
    "        for i in range(last,10):\n",
    "            self.dfs(sublist+[i],i+1)"
   ]
  },
  {
   "cell_type": "code",
   "execution_count": 56,
   "metadata": {},
   "outputs": [
    {
     "data": {
      "text/plain": [
       "([[1, 7, 9], [2, 6, 9], [2, 7, 8], [3, 5, 9], [3, 6, 8], [4, 5, 8], [4, 6, 7]],\n",
       " 256)"
      ]
     },
     "execution_count": 56,
     "metadata": {},
     "output_type": "execute_result"
    }
   ],
   "source": [
    "a = Solution()\n",
    "a.combinationSum3(3,17)"
   ]
  },
  {
   "cell_type": "markdown",
   "metadata": {},
   "source": [
    "### 到這裡就可以提交leetcode了，但如果還想優化，也ok。繼續進化！"
   ]
  },
  {
   "cell_type": "markdown",
   "metadata": {},
   "source": [
    "### 1.假設現在題目是 k = 3 , n =7 , 程式執行到 [1,2,4]發現了找到目標值了！就該知道 [1,2,5] 之後不必繼續了。"
   ]
  },
  {
   "cell_type": "code",
   "execution_count": 57,
   "metadata": {},
   "outputs": [],
   "source": [
    "class Solution:\n",
    "    def combinationSum3(self,k,n): \n",
    "        self.k = k\n",
    "        self.n = n \n",
    "        self.res = []\n",
    "        self.test = []\n",
    "        self.dfs([],1)\n",
    "        return self.res,len(self.test)\n",
    "    def dfs(self,sublist,last):\n",
    "        self.test.append(sublist)\n",
    "        if len(sublist) > self.k:\n",
    "            return\n",
    "        if len(sublist) == self.k and sum(sublist) == self.n: \n",
    "            self.res.append(sublist)\n",
    "            \n",
    "            return # 這裡增加return 讓程式直接繼續執行 [1,3]\n",
    "\n",
    "        for i in range(last,10):\n",
    "            self.dfs(sublist+[i],i+1)"
   ]
  },
  {
   "cell_type": "code",
   "execution_count": 58,
   "metadata": {},
   "outputs": [
    {
     "data": {
      "text/plain": [
       "([[1, 7, 9], [2, 6, 9], [2, 7, 8], [3, 5, 9], [3, 6, 8], [4, 5, 8], [4, 6, 7]],\n",
       " 251)"
      ]
     },
     "execution_count": 58,
     "metadata": {},
     "output_type": "execute_result"
    }
   ],
   "source": [
    "a = Solution()\n",
    "a.combinationSum3(3,17)"
   ]
  },
  {
   "cell_type": "markdown",
   "metadata": {},
   "source": [
    "### 2. 假設現在題目是 k = 3 , n =7 , 程式執行到 [1,3,4]發現了sum(sublist)已經超過 n 。離開4所處的這個迴圈。"
   ]
  },
  {
   "cell_type": "code",
   "execution_count": 59,
   "metadata": {},
   "outputs": [],
   "source": [
    "class Solution:\n",
    "    def combinationSum3(self,k,n): \n",
    "        self.k = k\n",
    "        self.n = n \n",
    "        self.res = []\n",
    "        self.test = []\n",
    "        self.dfs([],1)\n",
    "        return self.res,len(self.test)\n",
    "    def dfs(self,sublist,last):\n",
    "        self.test.append(sublist)\n",
    "        if len(sublist) > self.k:\n",
    "            return\n",
    "        if len(sublist) == self.k and sum(sublist) == self.n: \n",
    "            self.res.append(sublist)\n",
    "            return\n",
    "        for i in range(last,10):\n",
    "            # 增加了這裡\n",
    "            if sum(sublist) > self.n:\n",
    "                return\n",
    "            self.dfs(sublist+[i],i+1)"
   ]
  },
  {
   "cell_type": "code",
   "execution_count": 60,
   "metadata": {},
   "outputs": [
    {
     "data": {
      "text/plain": [
       "([[1, 7, 9], [2, 6, 9], [2, 7, 8], [3, 5, 9], [3, 6, 8], [4, 5, 8], [4, 6, 7]],\n",
       " 243)"
      ]
     },
     "execution_count": 60,
     "metadata": {},
     "output_type": "execute_result"
    }
   ],
   "source": [
    "a = Solution()\n",
    "a.combinationSum3(3,17)"
   ]
  },
  {
   "cell_type": "markdown",
   "metadata": {},
   "source": [
    "### 3.這裡修改剛剛因為直覺思考而寫的語法。\n",
    "### 其實，len(sublist)只要等於k，不管怎樣都要跳出目前這層的遞迴了。只是如果sum(sublist)剛好又等於n，則必須要多一個動作append而以"
   ]
  },
  {
   "cell_type": "code",
   "execution_count": 63,
   "metadata": {},
   "outputs": [],
   "source": [
    "class Solution:\n",
    "    def combinationSum3(self,k,n): \n",
    "        self.k = k\n",
    "        self.n = n \n",
    "        self.res = []\n",
    "        self.test = []\n",
    "        self.dfs([],1)\n",
    "        return self.res,len(self.test)\n",
    "    def dfs(self,sublist,last):\n",
    "        self.test.append(sublist)\n",
    "        \n",
    "        # 有了下面的判斷式，這兩行是多餘的。\n",
    "#         if len(sublist) > self.k:\n",
    "#             return\n",
    "\n",
    "        if len(sublist) == self.k:\n",
    "            if sum(sublist) == self.n: \n",
    "                self.res.append(sublist)\n",
    "            return\n",
    "        \n",
    "        for i in range(last,10):\n",
    "            if sum(sublist) > self.n:\n",
    "                return\n",
    "            self.dfs(sublist+[i],i+1)"
   ]
  },
  {
   "cell_type": "code",
   "execution_count": 62,
   "metadata": {},
   "outputs": [
    {
     "data": {
      "text/plain": [
       "([[1, 7, 9], [2, 6, 9], [2, 7, 8], [3, 5, 9], [3, 6, 8], [4, 5, 8], [4, 6, 7]],\n",
       " 130)"
      ]
     },
     "execution_count": 62,
     "metadata": {},
     "output_type": "execute_result"
    }
   ],
   "source": [
    "a = Solution()\n",
    "a.combinationSum3(3,17)"
   ]
  },
  {
   "cell_type": "code",
   "execution_count": 64,
   "metadata": {},
   "outputs": [],
   "source": []
  },
  {
   "cell_type": "code",
   "execution_count": null,
   "metadata": {},
   "outputs": [],
   "source": []
  }
 ],
 "metadata": {
  "kernelspec": {
   "display_name": "Python 3",
   "language": "python",
   "name": "python3"
  },
  "language_info": {
   "codemirror_mode": {
    "name": "ipython",
    "version": 3
   },
   "file_extension": ".py",
   "mimetype": "text/x-python",
   "name": "python",
   "nbconvert_exporter": "python",
   "pygments_lexer": "ipython3",
   "version": "3.7.4"
  }
 },
 "nbformat": 4,
 "nbformat_minor": 2
}
