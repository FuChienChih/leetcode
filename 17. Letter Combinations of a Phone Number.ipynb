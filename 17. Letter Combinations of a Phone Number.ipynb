{
 "cells": [
  {
   "cell_type": "code",
   "execution_count": 101,
   "metadata": {},
   "outputs": [],
   "source": [
    "dic = {'2':['a','b','c'] , '3':['d','e','f'] , '4':['g','h','i'],\n",
    "       '5':['j','k','l'], '6':['m','n','o'], '7':['p','q','r','s'],\n",
    "       '8':['t','u','v'],'9':['w','x','y','z']}"
   ]
  },
  {
   "cell_type": "code",
   "execution_count": 102,
   "metadata": {},
   "outputs": [],
   "source": [
    "class Solution:\n",
    "    def letterCombinations(self, digits):\n",
    "        self.res = []\n",
    "        self.digits = digits\n",
    "        self.dfs('',0) # 參數lv = 0 > 一開始0個字\n",
    "        return self.res\n",
    "    def dfs(self,substr,lv): # lv代表，現在處於第幾層世界。\n",
    "        if lv == len(self.digits):\n",
    "            # 若輸入為''輸出必須是[]\n",
    "            if lv == 0:\n",
    "                return []\n",
    "            self.res.append(substr)\n",
    "            return\n",
    "        for i in dic[self.digits[lv]]:\n",
    "            self.dfs(substr+i,lv+1)"
   ]
  },
  {
   "cell_type": "code",
   "execution_count": null,
   "metadata": {},
   "outputs": [],
   "source": []
  }
 ],
 "metadata": {
  "kernelspec": {
   "display_name": "Python 3",
   "language": "python",
   "name": "python3"
  },
  "language_info": {
   "codemirror_mode": {
    "name": "ipython",
    "version": 3
   },
   "file_extension": ".py",
   "mimetype": "text/x-python",
   "name": "python",
   "nbconvert_exporter": "python",
   "pygments_lexer": "ipython3",
   "version": "3.7.4"
  }
 },
 "nbformat": 4,
 "nbformat_minor": 2
}
