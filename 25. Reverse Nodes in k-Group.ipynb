{
 "cells": [
  {
   "cell_type": "code",
   "execution_count": 534,
   "metadata": {},
   "outputs": [],
   "source": [
    "class ListNode:\n",
    "    def __init__(self, val=0, next=None):\n",
    "        self.val = val\n",
    "        self.next = next\n",
    "def creat_listNode(nums: list):\n",
    "    if not nums: return None\n",
    "    bf_head = head = ListNode(nums[0])\n",
    "    for i in range(1, len(nums)):\n",
    "        head.next = ListNode(nums[i])\n",
    "        head = head.next\n",
    "    head.next = None\n",
    "    return bf_head"
   ]
  },
  {
   "cell_type": "code",
   "execution_count": 538,
   "metadata": {},
   "outputs": [],
   "source": [
    "class Solution:\n",
    "    def reverseKGroup(self, head:[ListNode], k) :\n",
    "        \n",
    "        dummy = last = ListNode(0) # 節點tag : dummy 參考註解，last 為 前一輪最後一個節點\n",
    "        cur = head # 節點tag (current) :  用來計算，變更頻率最高\n",
    "        \n",
    "        # 計算len(head)\n",
    "        cnt = 0 \n",
    "        while cur : \n",
    "            cur,cnt = cur.next , cnt+1\n",
    "        \n",
    "        \n",
    "        for _ in range(cnt//k): # 根據 cnt//k 來決定幾次迴圈\n",
    "            prev = None\n",
    "            cur = head\n",
    "            for _ in range(k):\n",
    "                prev, cur.next, cur = cur, prev, cur.next # 可行\n",
    "            last.next = prev # last 指向此輪反轉後的第一個節點(原最後一個節點)\n",
    "            head.next = cur # 本輪的head(原第一個節點)指向下一輪的第一個節點\n",
    "            \n",
    "            # 下一輪\n",
    "            last = head # last 為 前一輪最後一個節點\n",
    "            head = head.next # head 為 這一輪第一個節點\n",
    "        return dummy.next"
   ]
  },
  {
   "cell_type": "code",
   "execution_count": 11,
   "metadata": {},
   "outputs": [],
   "source": [
    "def print_listNode(listNode: ListNode):\n",
    "    if not listNode:\n",
    "        print(None)\n",
    "        return\n",
    "    bf_listNode = listNode\n",
    "    while bf_listNode.next:\n",
    "        print(bf_listNode.val, end=' ')\n",
    "        bf_listNode = bf_listNode.next\n",
    "    print(bf_listNode.val)\n",
    "\n",
    "def creat_listNode(nums: list):\n",
    "    if not nums: return None\n",
    "    bf_head = head = ListNode(nums[0])\n",
    "    for i in range(1, len(nums)):\n",
    "        head.next = ListNode(nums[i])\n",
    "        head = head.next\n",
    "    head.next = None\n",
    "    return bf_head"
   ]
  },
  {
   "cell_type": "code",
   "execution_count": 537,
   "metadata": {},
   "outputs": [
    {
     "name": "stdout",
     "output_type": "stream",
     "text": [
      "3 2 1 6 5 4 9 8 7 10\n"
     ]
    }
   ],
   "source": [
    "head = [1,2,3,4,5,6,7,8,9,10]\n",
    "print_listNode(Solution().reverseKGroup(creat_listNode(head),3))"
   ]
  },
  {
   "cell_type": "markdown",
   "metadata": {},
   "source": [
    " dummy -> head。Dummy node 的使用多針對單向鏈表沒有前向指標的問題，保證鏈表的 head 不會在刪除操作中遺失。\n",
    " \n",
    " 所以，當鏈表的 head 有可能變化（被修改或者被刪除）時，使用 dummy node 可以簡化程式碼及很多邊界情況的處理，最終返回 dummy.next 即新的鏈表。"
   ]
  }
 ],
 "metadata": {
  "kernelspec": {
   "display_name": "Python 3",
   "language": "python",
   "name": "python3"
  },
  "language_info": {
   "codemirror_mode": {
    "name": "ipython",
    "version": 3
   },
   "file_extension": ".py",
   "mimetype": "text/x-python",
   "name": "python",
   "nbconvert_exporter": "python",
   "pygments_lexer": "ipython3",
   "version": "3.7.4"
  }
 },
 "nbformat": 4,
 "nbformat_minor": 2
}
