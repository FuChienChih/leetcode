{
 "cells": [
  {
   "cell_type": "markdown",
   "metadata": {},
   "source": [
    "# 類別：class \n",
    "\n",
    "用來產生物件，通常會包含物件的屬性，函示(方法)"
   ]
  },
  {
   "cell_type": "markdown",
   "metadata": {},
   "source": [
    "### 例：產生一個 汽車的類別(calss)"
   ]
  },
  {
   "cell_type": "code",
   "execution_count": 32,
   "metadata": {},
   "outputs": [],
   "source": [
    "class cars:\n",
    "    def __init__(self,color,price):\n",
    "        self.color = color\n",
    "        self.price = price\n",
    "    def my_car_color(self):\n",
    "        print(f'My car is {self.color} ')\n",
    "    def my_car_price(self):\n",
    "        print(f'{self.price} dollar')"
   ]
  },
  {
   "cell_type": "markdown",
   "metadata": {},
   "source": [
    "### 由 __init__ 產生的，為cars"
   ]
  },
  {
   "cell_type": "markdown",
   "metadata": {},
   "source": [
    "### 建立一個由  類別‘cars’  產生的  物件‘my_car’"
   ]
  },
  {
   "cell_type": "code",
   "execution_count": 36,
   "metadata": {},
   "outputs": [],
   "source": [
    "my_car = cars('White' ,'200w')"
   ]
  },
  {
   "cell_type": "markdown",
   "metadata": {},
   "source": [
    "### my_car物件的屬性："
   ]
  },
  {
   "cell_type": "code",
   "execution_count": 39,
   "metadata": {},
   "outputs": [
    {
     "data": {
      "text/plain": [
       "'White'"
      ]
     },
     "execution_count": 39,
     "metadata": {},
     "output_type": "execute_result"
    }
   ],
   "source": [
    "my_car.color"
   ]
  },
  {
   "cell_type": "code",
   "execution_count": 40,
   "metadata": {},
   "outputs": [
    {
     "data": {
      "text/plain": [
       "'200w'"
      ]
     },
     "execution_count": 40,
     "metadata": {},
     "output_type": "execute_result"
    }
   ],
   "source": [
    "my_car.price"
   ]
  },
  {
   "cell_type": "markdown",
   "metadata": {},
   "source": [
    "### my_car物件的方法： 因為是函示，所以要加( )"
   ]
  },
  {
   "cell_type": "code",
   "execution_count": 37,
   "metadata": {},
   "outputs": [
    {
     "name": "stdout",
     "output_type": "stream",
     "text": [
      "My car is White \n"
     ]
    }
   ],
   "source": [
    "my_car.my_car_color()"
   ]
  },
  {
   "cell_type": "code",
   "execution_count": 38,
   "metadata": {},
   "outputs": [
    {
     "name": "stdout",
     "output_type": "stream",
     "text": [
      "200w dollar\n"
     ]
    }
   ],
   "source": [
    "my_car.my_car_price()"
   ]
  },
  {
   "cell_type": "markdown",
   "metadata": {},
   "source": [
    "# 題目two sum"
   ]
  },
  {
   "cell_type": "code",
   "execution_count": null,
   "metadata": {},
   "outputs": [],
   "source": [
    "class Solution:\n",
    "    def twoSum(self, nums: List[int], target: int) -> List[int]:"
   ]
  },
  {
   "cell_type": "markdown",
   "metadata": {},
   "source": [
    "意思是，要你建立一個類別 Solution ，這個 Solution 不需要有屬性。但需要有函式twoSum\n",
    "\n",
    "twoSum 有兩個參數：nums & target\n",
    "\n",
    "    nums 是以list的方式輸入\n",
    "    target 是以int的方式輸入\n",
    "    \n",
    "    \n",
    "twoSum 有一個輸出：\n",
    "\n",
    "\n",
    "    輸出形式為list,且規定List中的元素 type = int"
   ]
  },
  {
   "cell_type": "markdown",
   "metadata": {},
   "source": [
    "## 我的答案"
   ]
  },
  {
   "cell_type": "code",
   "execution_count": 56,
   "metadata": {},
   "outputs": [],
   "source": [
    "class Solution:\n",
    "    def twoSum(self,nums, target):\n",
    "        for num in nums:\n",
    "            dis = target - num\n",
    "            if dis in nums and nums.index(num) != nums.index(dis):\n",
    "                return [nums.index(num) , nums.index(dis)]"
   ]
  },
  {
   "cell_type": "markdown",
   "metadata": {},
   "source": [
    "## 系統是怎麼檢查的？"
   ]
  },
  {
   "cell_type": "code",
   "execution_count": 57,
   "metadata": {},
   "outputs": [],
   "source": [
    "nums_list = [[1,2,3],[3, 2, 4],[2,2,3,3,5],[7,1,2,6]]\n",
    "\n",
    "target_list =  [3,6,7,7]\n",
    "\n",
    "ans_list = [[0,1],[1,2],[0,4],[1,3]]"
   ]
  },
  {
   "cell_type": "code",
   "execution_count": 64,
   "metadata": {},
   "outputs": [
    {
     "name": "stdout",
     "output_type": "stream",
     "text": [
      "True\n",
      "True\n",
      "True\n",
      "True\n",
      "\n",
      "time cost 3.0994415283203125e-05 s\n"
     ]
    }
   ],
   "source": [
    "import time\n",
    "\n",
    "time_start = time.time()# 計時開始（不包含導入 函示庫，題目，解答 的時間）\n",
    "\n",
    "# 主程式\n",
    "solution = Solution()\n",
    "for nums,target,ans in zip(nums_list,target_list,ans_list):\n",
    "    print(ans == solution.twoSum(nums , target))\n",
    "        \n",
    "time_end = time.time()# 計時結束\n",
    "\n",
    "print('\\ntime cost', time_c, 's')"
   ]
  }
 ],
 "metadata": {
  "kernelspec": {
   "display_name": "Python 3",
   "language": "python",
   "name": "python3"
  },
  "language_info": {
   "codemirror_mode": {
    "name": "ipython",
    "version": 3
   },
   "file_extension": ".py",
   "mimetype": "text/x-python",
   "name": "python",
   "nbconvert_exporter": "python",
   "pygments_lexer": "ipython3",
   "version": "3.7.4"
  }
 },
 "nbformat": 4,
 "nbformat_minor": 2
}
