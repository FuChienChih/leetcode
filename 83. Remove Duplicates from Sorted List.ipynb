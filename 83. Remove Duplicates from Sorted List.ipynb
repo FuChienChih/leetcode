{
 "cells": [
  {
   "cell_type": "code",
   "execution_count": 109,
   "metadata": {},
   "outputs": [],
   "source": [
    "class ListNode:\n",
    "    def __init__(self, val=0, next=None):\n",
    "        self.val = val\n",
    "        self.next = next\n",
    "class Solution:\n",
    "    def deleteDuplicates(self, head):\n",
    "        if head == None: # 如果input --> []\n",
    "            return head\n",
    "        \n",
    "        dummy = head # 讓dummy 與 head 指向同一個 Node\n",
    "        \n",
    "        while dummy.next: # 當dummy的下一個point是None時結束\n",
    "            if dummy.val == dummy.next.val: # 如果現在Node的val == 下個Node的val ， 改變目前Node的指向到下下個節點\n",
    "                dummy.next = dummy.next.next\n",
    "                \n",
    "            else : # 如果下個節點的val跟現在的val不一樣，dummy.next\n",
    "                dummy = dummy.next\n",
    "        return head "
   ]
  },
  {
   "cell_type": "markdown",
   "metadata": {},
   "source": [
    "## 如何在本地端測試："
   ]
  },
  {
   "cell_type": "markdown",
   "metadata": {},
   "source": [
    "### 題目參數 head: Optional[ListNode]\n",
    "\n",
    "參數 head 不是一個list,而是指向linked list的一個位址。\n",
    "\n",
    "所以在本地端想要測試code時，如果直接給參數(list)會是錯的。\n",
    "\n",
    "利用下面函式來測試code。\n",
    "\n",
    "參考來源：[https://blog.csdn.net/L141210113/article/details/89174981]"
   ]
  },
  {
   "cell_type": "code",
   "execution_count": 115,
   "metadata": {},
   "outputs": [],
   "source": [
    "def print_listNode(listNode: ListNode):\n",
    "    if not listNode:\n",
    "        print(None)\n",
    "        return\n",
    "    bf_listNode = listNode\n",
    "    while bf_listNode.next:\n",
    "        print(bf_listNode.val, end=' ')\n",
    "        bf_listNode = bf_listNode.next\n",
    "    print(bf_listNode.val)\n",
    "\n",
    "def creat_listNode(nums: list):\n",
    "    if not nums: return None\n",
    "    bf_head = head = ListNode(nums[0])\n",
    "    for i in range(1, len(nums)):\n",
    "        head.next = ListNode(nums[i])\n",
    "        head = head.next\n",
    "    head.next = None\n",
    "    return bf_head"
   ]
  },
  {
   "cell_type": "markdown",
   "metadata": {},
   "source": [
    "### 使用方法：\n",
    "head = creat_listNode('輸入想要測試的head list')\n",
    "\n",
    "print_listNode(Solution().deleteDuplicates(head))\n",
    "\n",
    "### 例："
   ]
  },
  {
   "cell_type": "code",
   "execution_count": 116,
   "metadata": {},
   "outputs": [
    {
     "name": "stdout",
     "output_type": "stream",
     "text": [
      "1 2 3\n"
     ]
    }
   ],
   "source": [
    "head = creat_listNode([1,1,1,2,3,3,3])\n",
    "print_listNode(Solution().deleteDuplicates(head))"
   ]
  }
 ],
 "metadata": {
  "kernelspec": {
   "display_name": "Python 3",
   "language": "python",
   "name": "python3"
  },
  "language_info": {
   "codemirror_mode": {
    "name": "ipython",
    "version": 3
   },
   "file_extension": ".py",
   "mimetype": "text/x-python",
   "name": "python",
   "nbconvert_exporter": "python",
   "pygments_lexer": "ipython3",
   "version": "3.7.4"
  }
 },
 "nbformat": 4,
 "nbformat_minor": 2
}
